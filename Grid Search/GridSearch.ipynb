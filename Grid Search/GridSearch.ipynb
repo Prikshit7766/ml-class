{
 "cells": [
  {
   "cell_type": "code",
   "execution_count": 3,
   "metadata": {},
   "outputs": [
    {
     "data": {
      "text/html": [
       "<div>\n",
       "<style scoped>\n",
       "    .dataframe tbody tr th:only-of-type {\n",
       "        vertical-align: middle;\n",
       "    }\n",
       "\n",
       "    .dataframe tbody tr th {\n",
       "        vertical-align: top;\n",
       "    }\n",
       "\n",
       "    .dataframe thead th {\n",
       "        text-align: right;\n",
       "    }\n",
       "</style>\n",
       "<table border=\"1\" class=\"dataframe\">\n",
       "  <thead>\n",
       "    <tr style=\"text-align: right;\">\n",
       "      <th></th>\n",
       "      <th>Unnamed: 0</th>\n",
       "      <th>Unnamed: 0.1</th>\n",
       "      <th>Order</th>\n",
       "      <th>Lot.Frontage</th>\n",
       "      <th>Lot.Area</th>\n",
       "      <th>Overall.Qual</th>\n",
       "      <th>Overall.Cond</th>\n",
       "      <th>Year.Built</th>\n",
       "      <th>Year.Remod.Add</th>\n",
       "      <th>Mas.Vnr.Area</th>\n",
       "      <th>...</th>\n",
       "      <th>Sale.Type_ConLw</th>\n",
       "      <th>Sale.Type_New</th>\n",
       "      <th>Sale.Type_Oth</th>\n",
       "      <th>Sale.Type_VWD</th>\n",
       "      <th>Sale.Type_WD</th>\n",
       "      <th>Sale.Condition_AdjLand</th>\n",
       "      <th>Sale.Condition_Alloca</th>\n",
       "      <th>Sale.Condition_Family</th>\n",
       "      <th>Sale.Condition_Normal</th>\n",
       "      <th>Sale.Condition_Partial</th>\n",
       "    </tr>\n",
       "  </thead>\n",
       "  <tbody>\n",
       "    <tr>\n",
       "      <th>0</th>\n",
       "      <td>0</td>\n",
       "      <td>0</td>\n",
       "      <td>1</td>\n",
       "      <td>141.0</td>\n",
       "      <td>31770</td>\n",
       "      <td>6</td>\n",
       "      <td>5</td>\n",
       "      <td>1960</td>\n",
       "      <td>1960</td>\n",
       "      <td>112.0</td>\n",
       "      <td>...</td>\n",
       "      <td>0</td>\n",
       "      <td>0</td>\n",
       "      <td>0</td>\n",
       "      <td>0</td>\n",
       "      <td>1</td>\n",
       "      <td>0</td>\n",
       "      <td>0</td>\n",
       "      <td>0</td>\n",
       "      <td>1</td>\n",
       "      <td>0</td>\n",
       "    </tr>\n",
       "    <tr>\n",
       "      <th>1</th>\n",
       "      <td>1</td>\n",
       "      <td>1</td>\n",
       "      <td>2</td>\n",
       "      <td>80.0</td>\n",
       "      <td>11622</td>\n",
       "      <td>5</td>\n",
       "      <td>6</td>\n",
       "      <td>1961</td>\n",
       "      <td>1961</td>\n",
       "      <td>0.0</td>\n",
       "      <td>...</td>\n",
       "      <td>0</td>\n",
       "      <td>0</td>\n",
       "      <td>0</td>\n",
       "      <td>0</td>\n",
       "      <td>1</td>\n",
       "      <td>0</td>\n",
       "      <td>0</td>\n",
       "      <td>0</td>\n",
       "      <td>1</td>\n",
       "      <td>0</td>\n",
       "    </tr>\n",
       "    <tr>\n",
       "      <th>2</th>\n",
       "      <td>2</td>\n",
       "      <td>2</td>\n",
       "      <td>3</td>\n",
       "      <td>81.0</td>\n",
       "      <td>14267</td>\n",
       "      <td>6</td>\n",
       "      <td>6</td>\n",
       "      <td>1958</td>\n",
       "      <td>1958</td>\n",
       "      <td>108.0</td>\n",
       "      <td>...</td>\n",
       "      <td>0</td>\n",
       "      <td>0</td>\n",
       "      <td>0</td>\n",
       "      <td>0</td>\n",
       "      <td>1</td>\n",
       "      <td>0</td>\n",
       "      <td>0</td>\n",
       "      <td>0</td>\n",
       "      <td>1</td>\n",
       "      <td>0</td>\n",
       "    </tr>\n",
       "    <tr>\n",
       "      <th>3</th>\n",
       "      <td>3</td>\n",
       "      <td>3</td>\n",
       "      <td>4</td>\n",
       "      <td>93.0</td>\n",
       "      <td>11160</td>\n",
       "      <td>7</td>\n",
       "      <td>5</td>\n",
       "      <td>1968</td>\n",
       "      <td>1968</td>\n",
       "      <td>0.0</td>\n",
       "      <td>...</td>\n",
       "      <td>0</td>\n",
       "      <td>0</td>\n",
       "      <td>0</td>\n",
       "      <td>0</td>\n",
       "      <td>1</td>\n",
       "      <td>0</td>\n",
       "      <td>0</td>\n",
       "      <td>0</td>\n",
       "      <td>1</td>\n",
       "      <td>0</td>\n",
       "    </tr>\n",
       "    <tr>\n",
       "      <th>4</th>\n",
       "      <td>4</td>\n",
       "      <td>4</td>\n",
       "      <td>5</td>\n",
       "      <td>74.0</td>\n",
       "      <td>13830</td>\n",
       "      <td>5</td>\n",
       "      <td>5</td>\n",
       "      <td>1997</td>\n",
       "      <td>1998</td>\n",
       "      <td>0.0</td>\n",
       "      <td>...</td>\n",
       "      <td>0</td>\n",
       "      <td>0</td>\n",
       "      <td>0</td>\n",
       "      <td>0</td>\n",
       "      <td>1</td>\n",
       "      <td>0</td>\n",
       "      <td>0</td>\n",
       "      <td>0</td>\n",
       "      <td>1</td>\n",
       "      <td>0</td>\n",
       "    </tr>\n",
       "  </tbody>\n",
       "</table>\n",
       "<p>5 rows × 278 columns</p>\n",
       "</div>"
      ],
      "text/plain": [
       "   Unnamed: 0  Unnamed: 0.1  Order  Lot.Frontage  Lot.Area  Overall.Qual  \\\n",
       "0           0             0      1         141.0     31770             6   \n",
       "1           1             1      2          80.0     11622             5   \n",
       "2           2             2      3          81.0     14267             6   \n",
       "3           3             3      4          93.0     11160             7   \n",
       "4           4             4      5          74.0     13830             5   \n",
       "\n",
       "   Overall.Cond  Year.Built  Year.Remod.Add  Mas.Vnr.Area  ...  \\\n",
       "0             5        1960            1960         112.0  ...   \n",
       "1             6        1961            1961           0.0  ...   \n",
       "2             6        1958            1958         108.0  ...   \n",
       "3             5        1968            1968           0.0  ...   \n",
       "4             5        1997            1998           0.0  ...   \n",
       "\n",
       "   Sale.Type_ConLw  Sale.Type_New  Sale.Type_Oth  Sale.Type_VWD  \\\n",
       "0                0              0              0              0   \n",
       "1                0              0              0              0   \n",
       "2                0              0              0              0   \n",
       "3                0              0              0              0   \n",
       "4                0              0              0              0   \n",
       "\n",
       "   Sale.Type_WD   Sale.Condition_AdjLand  Sale.Condition_Alloca  \\\n",
       "0              1                       0                      0   \n",
       "1              1                       0                      0   \n",
       "2              1                       0                      0   \n",
       "3              1                       0                      0   \n",
       "4              1                       0                      0   \n",
       "\n",
       "   Sale.Condition_Family  Sale.Condition_Normal  Sale.Condition_Partial  \n",
       "0                      0                      1                       0  \n",
       "1                      0                      1                       0  \n",
       "2                      0                      1                       0  \n",
       "3                      0                      1                       0  \n",
       "4                      0                      1                       0  \n",
       "\n",
       "[5 rows x 278 columns]"
      ]
     },
     "execution_count": 3,
     "metadata": {},
     "output_type": "execute_result"
    }
   ],
   "source": [
    "import numpy as np\n",
    "import pandas as pd\n",
    "import matplotlib.pyplot as plt\n",
    "import seaborn as sns\n",
    "df = pd.read_csv(r'C:\\Users\\HP\\OneDrive\\Desktop\\ml\\modular\\ml-class\\Data\\Encoded ames_no_outliers(no missing value).csv')\n",
    "df.head()\n"
   ]
  },
  {
   "cell_type": "code",
   "execution_count": null,
   "metadata": {},
   "outputs": [],
   "source": []
  },
  {
   "cell_type": "code",
   "execution_count": 4,
   "metadata": {},
   "outputs": [],
   "source": [
    "x=df.drop([\"Unnamed: 0\",\"SalePrice\"],axis=1)\n",
    "y=df['SalePrice']\n",
    "\n",
    "# TRAIN TEST SPLIT\n",
    "from sklearn.model_selection import train_test_split\n",
    "X_train, X_test, y_train, y_test = train_test_split(x, y, test_size=0.3, random_state=101)\n",
    "\n",
    "# SCALE DATA\n",
    "from sklearn.preprocessing import StandardScaler\n",
    "scaler = StandardScaler()\n",
    "\n",
    "scaled_x_train = scaler.fit_transform(X_train)\n",
    "scaled_x_test = scaler.fit_transform(X_test)"
   ]
  },
  {
   "cell_type": "code",
   "execution_count": 5,
   "metadata": {},
   "outputs": [],
   "source": [
    "from sklearn.model_selection import GridSearchCV"
   ]
  },
  {
   "cell_type": "code",
   "execution_count": 6,
   "metadata": {},
   "outputs": [],
   "source": [
    "from sklearn.linear_model import ElasticNet"
   ]
  },
  {
   "cell_type": "code",
   "execution_count": 7,
   "metadata": {},
   "outputs": [],
   "source": [
    "model=ElasticNet(max_iter = 20000000)"
   ]
  },
  {
   "cell_type": "code",
   "execution_count": 8,
   "metadata": {},
   "outputs": [],
   "source": [
    "#\"param_grid\" paraa meter of gridsearch\n",
    "param_grid = {'alpha': [0.1,1,5,10,100], 'l1_ratio':[0.1, 0.5, 0.7, 0.9, 1]}"
   ]
  },
  {
   "cell_type": "code",
   "execution_count": 9,
   "metadata": {},
   "outputs": [],
   "source": [
    "grid_model=GridSearchCV(model, param_grid=param_grid,scoring='neg_mean_absolute_error',cv=5, verbose=3)"
   ]
  },
  {
   "cell_type": "code",
   "execution_count": 10,
   "metadata": {},
   "outputs": [
    {
     "name": "stdout",
     "output_type": "stream",
     "text": [
      "Fitting 5 folds for each of 25 candidates, totalling 125 fits\n",
      "[CV 1/5] END ......alpha=0.1, l1_ratio=0.1;, score=-15261.098 total time=   0.1s\n",
      "[CV 2/5] END ......alpha=0.1, l1_ratio=0.1;, score=-15125.347 total time=   0.0s\n",
      "[CV 3/5] END ......alpha=0.1, l1_ratio=0.1;, score=-15044.367 total time=   0.0s\n",
      "[CV 4/5] END ......alpha=0.1, l1_ratio=0.1;, score=-15038.516 total time=   0.0s\n",
      "[CV 5/5] END ......alpha=0.1, l1_ratio=0.1;, score=-16284.186 total time=   0.0s\n",
      "[CV 1/5] END ......alpha=0.1, l1_ratio=0.5;, score=-15188.327 total time=   0.0s\n",
      "[CV 2/5] END ......alpha=0.1, l1_ratio=0.5;, score=-15184.457 total time=   0.0s\n",
      "[CV 3/5] END ......alpha=0.1, l1_ratio=0.5;, score=-14994.363 total time=   0.1s\n",
      "[CV 4/5] END ......alpha=0.1, l1_ratio=0.5;, score=-15107.324 total time=   0.0s\n",
      "[CV 5/5] END ......alpha=0.1, l1_ratio=0.5;, score=-16196.764 total time=   0.1s\n",
      "[CV 1/5] END ......alpha=0.1, l1_ratio=0.7;, score=-15157.736 total time=   0.1s\n",
      "[CV 2/5] END ......alpha=0.1, l1_ratio=0.7;, score=-15286.915 total time=   0.1s\n",
      "[CV 3/5] END ......alpha=0.1, l1_ratio=0.7;, score=-15031.321 total time=   0.2s\n",
      "[CV 4/5] END ......alpha=0.1, l1_ratio=0.7;, score=-15174.470 total time=   0.1s\n",
      "[CV 5/5] END ......alpha=0.1, l1_ratio=0.7;, score=-16154.205 total time=   0.1s\n",
      "[CV 1/5] END ......alpha=0.1, l1_ratio=0.9;, score=-15186.278 total time=   0.4s\n",
      "[CV 2/5] END ......alpha=0.1, l1_ratio=0.9;, score=-15511.770 total time=   0.3s\n",
      "[CV 3/5] END ......alpha=0.1, l1_ratio=0.9;, score=-15130.800 total time=   0.4s\n",
      "[CV 4/5] END ......alpha=0.1, l1_ratio=0.9;, score=-15287.436 total time=   0.3s\n",
      "[CV 5/5] END ......alpha=0.1, l1_ratio=0.9;, score=-16164.854 total time=   0.3s\n",
      "[CV 1/5] END ........alpha=0.1, l1_ratio=1;, score=-15790.116 total time=52.6min\n",
      "[CV 2/5] END ........alpha=0.1, l1_ratio=1;, score=-15785.146 total time=59.0min\n",
      "[CV 3/5] END ........alpha=0.1, l1_ratio=1;, score=-15396.646 total time=   3.2s\n",
      "[CV 4/5] END ........alpha=0.1, l1_ratio=1;, score=-15624.583 total time=   8.2s\n",
      "[CV 5/5] END ........alpha=0.1, l1_ratio=1;, score=-16589.652 total time=58.1min\n",
      "[CV 1/5] END ........alpha=1, l1_ratio=0.1;, score=-17195.419 total time=   0.0s\n",
      "[CV 2/5] END ........alpha=1, l1_ratio=0.1;, score=-15876.215 total time=   0.0s\n",
      "[CV 3/5] END ........alpha=1, l1_ratio=0.1;, score=-16884.748 total time=   0.0s\n",
      "[CV 4/5] END ........alpha=1, l1_ratio=0.1;, score=-16418.787 total time=   0.0s\n",
      "[CV 5/5] END ........alpha=1, l1_ratio=0.1;, score=-18030.779 total time=   0.0s\n",
      "[CV 1/5] END ........alpha=1, l1_ratio=0.5;, score=-16127.109 total time=   0.0s\n",
      "[CV 2/5] END ........alpha=1, l1_ratio=0.5;, score=-15374.312 total time=   0.0s\n",
      "[CV 3/5] END ........alpha=1, l1_ratio=0.5;, score=-15922.503 total time=   0.0s\n",
      "[CV 4/5] END ........alpha=1, l1_ratio=0.5;, score=-15606.507 total time=   0.0s\n",
      "[CV 5/5] END ........alpha=1, l1_ratio=0.5;, score=-17232.838 total time=   0.0s\n",
      "[CV 1/5] END ........alpha=1, l1_ratio=0.7;, score=-15656.379 total time=   0.0s\n",
      "[CV 2/5] END ........alpha=1, l1_ratio=0.7;, score=-15181.205 total time=   0.0s\n",
      "[CV 3/5] END ........alpha=1, l1_ratio=0.7;, score=-15464.653 total time=   0.0s\n",
      "[CV 4/5] END ........alpha=1, l1_ratio=0.7;, score=-15225.928 total time=   0.0s\n",
      "[CV 5/5] END ........alpha=1, l1_ratio=0.7;, score=-16816.655 total time=   0.0s\n",
      "[CV 1/5] END ........alpha=1, l1_ratio=0.9;, score=-15277.012 total time=   0.0s\n",
      "[CV 2/5] END ........alpha=1, l1_ratio=0.9;, score=-15116.163 total time=   0.0s\n",
      "[CV 3/5] END ........alpha=1, l1_ratio=0.9;, score=-15069.236 total time=   0.0s\n",
      "[CV 4/5] END ........alpha=1, l1_ratio=0.9;, score=-15025.688 total time=   0.0s\n",
      "[CV 5/5] END ........alpha=1, l1_ratio=0.9;, score=-16312.022 total time=   0.0s\n",
      "[CV 1/5] END ..........alpha=1, l1_ratio=1;, score=-15697.486 total time=   4.5s\n",
      "[CV 2/5] END ..........alpha=1, l1_ratio=1;, score=-15697.842 total time=   5.3s\n",
      "[CV 3/5] END ..........alpha=1, l1_ratio=1;, score=-15385.446 total time=   2.5s\n",
      "[CV 4/5] END ..........alpha=1, l1_ratio=1;, score=-15565.436 total time=   2.2s\n",
      "[CV 5/5] END ..........alpha=1, l1_ratio=1;, score=-16507.865 total time=   2.8s\n",
      "[CV 1/5] END ........alpha=5, l1_ratio=0.1;, score=-24340.321 total time=   0.0s\n",
      "[CV 2/5] END ........alpha=5, l1_ratio=0.1;, score=-20530.044 total time=   0.0s\n",
      "[CV 3/5] END ........alpha=5, l1_ratio=0.1;, score=-22979.537 total time=   0.0s\n",
      "[CV 4/5] END ........alpha=5, l1_ratio=0.1;, score=-21075.755 total time=   0.0s\n",
      "[CV 5/5] END ........alpha=5, l1_ratio=0.1;, score=-23869.278 total time=   0.0s\n",
      "[CV 1/5] END ........alpha=5, l1_ratio=0.5;, score=-20831.327 total time=   0.0s\n",
      "[CV 2/5] END ........alpha=5, l1_ratio=0.5;, score=-17751.559 total time=   0.0s\n",
      "[CV 3/5] END ........alpha=5, l1_ratio=0.5;, score=-19815.844 total time=   0.0s\n",
      "[CV 4/5] END ........alpha=5, l1_ratio=0.5;, score=-18591.772 total time=   0.0s\n",
      "[CV 5/5] END ........alpha=5, l1_ratio=0.5;, score=-20725.983 total time=   0.0s\n",
      "[CV 1/5] END ........alpha=5, l1_ratio=0.7;, score=-18705.288 total time=   0.0s\n",
      "[CV 2/5] END ........alpha=5, l1_ratio=0.7;, score=-16546.396 total time=   0.0s\n",
      "[CV 3/5] END ........alpha=5, l1_ratio=0.7;, score=-18079.169 total time=   0.0s\n",
      "[CV 4/5] END ........alpha=5, l1_ratio=0.7;, score=-17334.873 total time=   0.0s\n",
      "[CV 5/5] END ........alpha=5, l1_ratio=0.7;, score=-19135.726 total time=   0.0s\n",
      "[CV 1/5] END ........alpha=5, l1_ratio=0.9;, score=-16130.150 total time=   0.0s\n",
      "[CV 2/5] END ........alpha=5, l1_ratio=0.9;, score=-15369.542 total time=   0.0s\n",
      "[CV 3/5] END ........alpha=5, l1_ratio=0.9;, score=-15926.084 total time=   0.0s\n",
      "[CV 4/5] END ........alpha=5, l1_ratio=0.9;, score=-15603.766 total time=   0.0s\n",
      "[CV 5/5] END ........alpha=5, l1_ratio=0.9;, score=-17229.005 total time=   0.0s\n",
      "[CV 1/5] END ..........alpha=5, l1_ratio=1;, score=-15443.998 total time=   1.0s\n",
      "[CV 2/5] END ..........alpha=5, l1_ratio=1;, score=-15677.713 total time=   1.2s\n",
      "[CV 3/5] END ..........alpha=5, l1_ratio=1;, score=-15337.786 total time=   1.3s\n",
      "[CV 4/5] END ..........alpha=5, l1_ratio=1;, score=-15395.004 total time=   1.3s\n",
      "[CV 5/5] END ..........alpha=5, l1_ratio=1;, score=-16341.841 total time=   1.3s\n",
      "[CV 1/5] END .......alpha=10, l1_ratio=0.1;, score=-30587.050 total time=   0.0s\n",
      "[CV 2/5] END .......alpha=10, l1_ratio=0.1;, score=-25915.496 total time=   0.0s\n",
      "[CV 3/5] END .......alpha=10, l1_ratio=0.1;, score=-28429.278 total time=   0.0s\n",
      "[CV 4/5] END .......alpha=10, l1_ratio=0.1;, score=-26346.377 total time=   0.0s\n",
      "[CV 5/5] END .......alpha=10, l1_ratio=0.1;, score=-29808.558 total time=   0.0s\n",
      "[CV 1/5] END .......alpha=10, l1_ratio=0.5;, score=-25156.209 total time=   0.0s\n",
      "[CV 2/5] END .......alpha=10, l1_ratio=0.5;, score=-21181.323 total time=   0.0s\n",
      "[CV 3/5] END .......alpha=10, l1_ratio=0.5;, score=-23701.533 total time=   0.0s\n",
      "[CV 4/5] END .......alpha=10, l1_ratio=0.5;, score=-21711.905 total time=   0.0s\n",
      "[CV 5/5] END .......alpha=10, l1_ratio=0.5;, score=-24627.344 total time=   0.0s\n",
      "[CV 1/5] END .......alpha=10, l1_ratio=0.7;, score=-21778.454 total time=   0.0s\n",
      "[CV 2/5] END .......alpha=10, l1_ratio=0.7;, score=-18464.514 total time=   0.0s\n",
      "[CV 3/5] END .......alpha=10, l1_ratio=0.7;, score=-20627.933 total time=   0.0s\n",
      "[CV 4/5] END .......alpha=10, l1_ratio=0.7;, score=-19185.712 total time=   0.0s\n",
      "[CV 5/5] END .......alpha=10, l1_ratio=0.7;, score=-21529.315 total time=   0.0s\n",
      "[CV 1/5] END .......alpha=10, l1_ratio=0.9;, score=-17481.575 total time=   0.0s\n",
      "[CV 2/5] END .......alpha=10, l1_ratio=0.9;, score=-15994.486 total time=   0.0s\n",
      "[CV 3/5] END .......alpha=10, l1_ratio=0.9;, score=-17105.858 total time=   0.0s\n",
      "[CV 4/5] END .......alpha=10, l1_ratio=0.9;, score=-16602.031 total time=   0.0s\n",
      "[CV 5/5] END .......alpha=10, l1_ratio=0.9;, score=-18232.959 total time=   0.0s\n",
      "[CV 1/5] END .........alpha=10, l1_ratio=1;, score=-15401.782 total time=   0.6s\n",
      "[CV 2/5] END .........alpha=10, l1_ratio=1;, score=-15665.776 total time=   0.6s\n",
      "[CV 3/5] END .........alpha=10, l1_ratio=1;, score=-15296.730 total time=   0.5s\n",
      "[CV 4/5] END .........alpha=10, l1_ratio=1;, score=-15351.268 total time=   0.7s\n",
      "[CV 5/5] END .........alpha=10, l1_ratio=1;, score=-16141.587 total time=   0.7s\n",
      "[CV 1/5] END ......alpha=100, l1_ratio=0.1;, score=-53922.668 total time=   0.0s\n",
      "[CV 2/5] END ......alpha=100, l1_ratio=0.1;, score=-48464.140 total time=   0.0s\n",
      "[CV 3/5] END ......alpha=100, l1_ratio=0.1;, score=-49823.254 total time=   0.0s\n",
      "[CV 4/5] END ......alpha=100, l1_ratio=0.1;, score=-48704.934 total time=   0.0s\n",
      "[CV 5/5] END ......alpha=100, l1_ratio=0.1;, score=-52980.963 total time=   0.0s\n",
      "[CV 1/5] END ......alpha=100, l1_ratio=0.5;, score=-49362.072 total time=   0.0s\n",
      "[CV 2/5] END ......alpha=100, l1_ratio=0.5;, score=-43832.652 total time=   0.0s\n",
      "[CV 3/5] END ......alpha=100, l1_ratio=0.5;, score=-45530.629 total time=   0.0s\n",
      "[CV 4/5] END ......alpha=100, l1_ratio=0.5;, score=-44295.601 total time=   0.0s\n",
      "[CV 5/5] END ......alpha=100, l1_ratio=0.5;, score=-48331.550 total time=   0.0s\n",
      "[CV 1/5] END ......alpha=100, l1_ratio=0.7;, score=-44254.411 total time=   0.0s\n",
      "[CV 2/5] END ......alpha=100, l1_ratio=0.7;, score=-38749.044 total time=   0.0s\n",
      "[CV 3/5] END ......alpha=100, l1_ratio=0.7;, score=-40753.050 total time=   0.0s\n",
      "[CV 4/5] END ......alpha=100, l1_ratio=0.7;, score=-39346.271 total time=   0.0s\n",
      "[CV 5/5] END ......alpha=100, l1_ratio=0.7;, score=-43121.778 total time=   0.0s\n",
      "[CV 1/5] END ......alpha=100, l1_ratio=0.9;, score=-31780.695 total time=   0.0s\n",
      "[CV 2/5] END ......alpha=100, l1_ratio=0.9;, score=-26969.266 total time=   0.0s\n",
      "[CV 3/5] END ......alpha=100, l1_ratio=0.9;, score=-29470.761 total time=   0.0s\n",
      "[CV 4/5] END ......alpha=100, l1_ratio=0.9;, score=-27437.433 total time=   0.0s\n",
      "[CV 5/5] END ......alpha=100, l1_ratio=0.9;, score=-30940.233 total time=   0.0s\n",
      "[CV 1/5] END ........alpha=100, l1_ratio=1;, score=-15051.462 total time=   0.0s\n",
      "[CV 2/5] END ........alpha=100, l1_ratio=1;, score=-15211.522 total time=   0.0s\n",
      "[CV 3/5] END ........alpha=100, l1_ratio=1;, score=-14978.093 total time=   0.0s\n",
      "[CV 4/5] END ........alpha=100, l1_ratio=1;, score=-15041.924 total time=   0.0s\n",
      "[CV 5/5] END ........alpha=100, l1_ratio=1;, score=-16094.585 total time=   0.0s\n"
     ]
    },
    {
     "data": {
      "text/plain": [
       "GridSearchCV(cv=5, estimator=ElasticNet(max_iter=20000000),\n",
       "             param_grid={'alpha': [0.1, 1, 5, 10, 100],\n",
       "                         'l1_ratio': [0.1, 0.5, 0.7, 0.9, 1]},\n",
       "             scoring='neg_mean_absolute_error', verbose=3)"
      ]
     },
     "execution_count": 10,
     "metadata": {},
     "output_type": "execute_result"
    }
   ],
   "source": [
    "grid_model.fit(scaled_x_train,y_train)"
   ]
  },
  {
   "cell_type": "code",
   "execution_count": 11,
   "metadata": {},
   "outputs": [],
   "source": [
    "#giving convergence warning -- how to deal with it....try to run the model more number of time by passing max_iter in ElasticNet"
   ]
  },
  {
   "cell_type": "code",
   "execution_count": 12,
   "metadata": {},
   "outputs": [
    {
     "data": {
      "text/plain": [
       "{'alpha': 100, 'l1_ratio': 1}"
      ]
     },
     "execution_count": 12,
     "metadata": {},
     "output_type": "execute_result"
    }
   ],
   "source": [
    "grid_model.best_params_"
   ]
  },
  {
   "cell_type": "code",
   "execution_count": 13,
   "metadata": {},
   "outputs": [],
   "source": [
    "y_pred=grid_model.predict(scaled_x_test)\n"
   ]
  },
  {
   "cell_type": "code",
   "execution_count": 14,
   "metadata": {},
   "outputs": [],
   "source": [
    "from sklearn.metrics import mean_absolute_error,mean_squared_error"
   ]
  },
  {
   "cell_type": "code",
   "execution_count": 17,
   "metadata": {},
   "outputs": [
    {
     "data": {
      "text/plain": [
       "556053725.9291742"
      ]
     },
     "execution_count": 17,
     "metadata": {},
     "output_type": "execute_result"
    }
   ],
   "source": [
    "MSE=mean_squared_error(y_test, y_pred)\n",
    "MSE"
   ]
  },
  {
   "cell_type": "code",
   "execution_count": 19,
   "metadata": {},
   "outputs": [
    {
     "data": {
      "text/plain": [
       "23580.791461042485"
      ]
     },
     "execution_count": 19,
     "metadata": {},
     "output_type": "execute_result"
    }
   ],
   "source": [
    "\n",
    "RMSE=np.sqrt(MSE)\n",
    "RMSE"
   ]
  },
  {
   "cell_type": "code",
   "execution_count": null,
   "metadata": {},
   "outputs": [],
   "source": []
  }
 ],
 "metadata": {
  "interpreter": {
   "hash": "5aa50d0eb6722c0244e4e8b3c3c6551184800f3315dee2142be6b8f3870f3a4e"
  },
  "kernelspec": {
   "display_name": "Python 3.7.4 ('ml_Test')",
   "language": "python",
   "name": "python3"
  },
  "language_info": {
   "codemirror_mode": {
    "name": "ipython",
    "version": 3
   },
   "file_extension": ".py",
   "mimetype": "text/x-python",
   "name": "python",
   "nbconvert_exporter": "python",
   "pygments_lexer": "ipython3",
   "version": "3.7.4"
  }
 },
 "nbformat": 4,
 "nbformat_minor": 2
}
